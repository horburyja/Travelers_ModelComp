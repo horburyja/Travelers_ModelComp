{
 "cells": [
  {
   "cell_type": "code",
   "execution_count": 12,
   "metadata": {},
   "outputs": [],
   "source": [
    "# import utility modules\n",
    "import matplotlib.pyplot as plt\n",
    "import pandas as pd\n",
    "import numpy as np\n",
    "import seaborn as sns\n",
    "\n",
    "# load raw data\n",
    "train_policies_complete = pd.read_csv('../data/train_policies_complete.csv', index_col=0)\n",
    "test_policies_complete = pd.read_csv('../data/test_policies_complete.csv', index_col=0)\n",
    "drivers_complete = pd.read_csv('../data/drivers_complete.csv', index_col=0)\n",
    "vehicles_complete = pd.read_csv('../data/vehicles_complete.csv', index_col=0)"
   ]
  },
  {
   "cell_type": "code",
   "execution_count": 13,
   "metadata": {},
   "outputs": [],
   "source": [
    "class DataValidation:\n",
    "    def __init__(self, df):\n",
    "        self._data = df\n",
    "        self.clean = None\n",
    "        self.raw_catvars = self._data.select_dtypes(exclude=[np.number])\n",
    "        self.raw_numvars = self._data.select_dtypes(include=[np.number])\n",
    "\n",
    "    # returns numpy array of categorical variables as they appear in dataset\n",
    "    def get_categoric(self):\n",
    "        return self.raw_catvars.columns.values\n",
    "\n",
    "    # returns numpy array of numerical variables as they appear in dataset\n",
    "    def get_numeric(self):\n",
    "        return self.raw_numvars.columns.values\n",
    "\n",
    "    # returns df of pct missing data points for each predictor\n",
    "    def get_missing(self):\n",
    "        dict_missing = {'col':[], 'pct_missing':[]}\n",
    "\n",
    "        for col in self._data.columns:\n",
    "            mean_missing = np.mean(self._data[col].isnull())\n",
    "            pct_missing = round(mean_missing * 100, 5)\n",
    "            \n",
    "            dict_missing['col'].append(col)\n",
    "            dict_missing['pct_missing'].append(pct_missing)\n",
    "\n",
    "        df_missing = pd.DataFrame(data=dict_missing)\n",
    "        return df_missing\n",
    "\n",
    "    def print_categoric(self):\n",
    "        for col in self.get_categoric():\n",
    "            print(\"{}: {}\".format(col, self._data[col].unique()))\n",
    "\n",
    "    def print_numeric(self):\n",
    "        # self.get_numeric())\n",
    "        large = ['credit_score']\n",
    "        for col in self.get_numeric():\n",
    "            if col not in large:\n",
    "                print(\"{}: {}\".format(col, self._data[col].unique()))"
   ]
  },
  {
   "cell_type": "code",
   "execution_count": 14,
   "metadata": {},
   "outputs": [],
   "source": [
    "train_policy = DataValidation(train_policies_complete)\n",
    "test_policy = DataValidation(test_policies_complete)\n",
    "driver = DataValidation(drivers_complete)\n",
    "vehicle = DataValidation(vehicles_complete)"
   ]
  },
  {
   "cell_type": "code",
   "execution_count": 15,
   "metadata": {},
   "outputs": [
    {
     "data": {
      "image/png": "[encoded data removed]",
      "text/plain": [
       "<Figure size 432x288 with 1 Axes>"
      ]
     },
     "metadata": {
      "needs_background": "light"
     },
     "output_type": "display_data"
    },
    {
     "data": {
      "text/plain": [
       "<Figure size 432x288 with 0 Axes>"
      ]
     },
     "metadata": {},
     "output_type": "display_data"
    }
   ],
   "source": [
    "train_policy._data['convert_ind'].value_counts()\n",
    "sns.countplot(x='convert_ind', data=train_policy._data, palette='hls')\n",
    "plt.show()\n",
    "plt.savefig('../figs/count_plot.png')"
   ]
  }
 ],
 "metadata": {
  "kernelspec": {
   "display_name": "Python 3.10.2 64-bit",
   "language": "python",
   "name": "python3"
  },
  "language_info": {
   "codemirror_mode": {
    "name": "ipython",
    "version": 3
   },
   "file_extension": ".py",
   "mimetype": "text/x-python",
   "name": "python",
   "nbconvert_exporter": "python",
   "pygments_lexer": "ipython3",
   "version": "3.10.2"
  },
  "orig_nbformat": 4,
  "vscode": {
   "interpreter": {
    "hash": "413c54d42d867d78bc5693b88112002b4b75f03abc9fed1665b973f73c05d110"
   }
  }
 },
 "nbformat": 4,
 "nbformat_minor": 2
}
