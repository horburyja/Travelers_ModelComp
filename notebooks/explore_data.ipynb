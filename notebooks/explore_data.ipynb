{
 "cells": [
  {
   "cell_type": "code",
   "execution_count": 1,
   "metadata": {},
   "outputs": [],
   "source": [
    "# import utility modules\n",
    "import matplotlib.pyplot as plt\n",
    "import pandas as pd\n",
    "import numpy as np\n",
    "\n",
    "# load raw data\n",
    "policies_raw = pd.read_csv('../data/policies.csv')"
   ]
  },
  {
   "cell_type": "code",
   "execution_count": 2,
   "metadata": {},
   "outputs": [
    {
     "name": "stdout",
     "output_type": "stream",
     "text": [
      "<class 'pandas.core.frame.DataFrame'>\n",
      "RangeIndex: 49162 entries, 0 to 49161\n",
      "Data columns (total 22 columns):\n",
      " #   Column             Non-Null Count  Dtype  \n",
      "---  ------             --------------  -----  \n",
      " 0   Unnamed: 0         49162 non-null  int64  \n",
      " 1   Quote_dt           49162 non-null  object \n",
      " 2   discount           49162 non-null  object \n",
      " 3   Home_policy_ind    49162 non-null  object \n",
      " 4   zip                48690 non-null  float64\n",
      " 5   state_id           49162 non-null  object \n",
      " 6   county_name        49162 non-null  object \n",
      " 7   Agent_cd           43732 non-null  float64\n",
      " 8   quoted_amt         49050 non-null  object \n",
      " 9   Prior_carrier_grp  44162 non-null  object \n",
      " 10  credit_score       48862 non-null  float64\n",
      " 11  Cov_package_type   48392 non-null  object \n",
      " 12  CAT_zone           48912 non-null  float64\n",
      " 13  policy_id          49162 non-null  object \n",
      " 14  number_drivers     49162 non-null  int64  \n",
      " 15  num_loaned_veh     49162 non-null  int64  \n",
      " 16  num_owned_veh      49162 non-null  int64  \n",
      " 17  num_leased_veh     49162 non-null  int64  \n",
      " 18  total_number_veh   49162 non-null  int64  \n",
      " 19  convert_ind        36871 non-null  float64\n",
      " 20  split              49162 non-null  object \n",
      " 21  primary_parking    49162 non-null  object \n",
      "dtypes: float64(5), int64(6), object(11)\n",
      "memory usage: 8.3+ MB\n",
      "None\n"
     ]
    }
   ],
   "source": [
    "print(policies_raw.info())"
   ]
  },
  {
   "cell_type": "markdown",
   "metadata": {},
   "source": [
    "Variable Identification:\n",
    "+ should variables be classified further (i.e., discrete, continuous, ordinal, nominal)?"
   ]
  },
  {
   "cell_type": "code",
   "execution_count": 3,
   "metadata": {},
   "outputs": [],
   "source": [
    "class DataValidation:\n",
    "    def __init__(self, df):\n",
    "        self.raw_data = df\n",
    "        self.raw_catvars = self.raw_data.select_dtypes(exclude=[np.number])\n",
    "        self.raw_numvars = self.raw_data.select_dtypes(include=[np.number])\n",
    "\n",
    "    def get_categoric(self):\n",
    "        return self.raw_catvars.columns.values\n",
    "\n",
    "    def get_numeric(self):\n",
    "        return self.raw_numvars.columns.values\n",
    "\n",
    "    # should this return a df?\n",
    "    def print_missing(self):\n",
    "        total_pct_missing = 0\n",
    "        colnum = 0\n",
    "        for col in self.raw_data.columns:\n",
    "            mean_missing = np.mean(self.raw_data[col].isnull())\n",
    "            pct_missing = round(mean_missing * 100, 5)\n",
    "            total_pct_missing += pct_missing\n",
    "\n",
    "            print(\"{}. {} - {}%\".format(colnum, col, pct_missing))\n",
    "            colnum += 1\n",
    "\n",
    "        print(\"\\n{}% missing in total\".format(total_pct_missing))"
   ]
  },
  {
   "cell_type": "code",
   "execution_count": 4,
   "metadata": {},
   "outputs": [
    {
     "name": "stdout",
     "output_type": "stream",
     "text": [
      "['Quote_dt' 'discount' 'Home_policy_ind' 'state_id' 'county_name'\n",
      " 'quoted_amt' 'Prior_carrier_grp' 'Cov_package_type' 'policy_id' 'split'\n",
      " 'primary_parking']\n",
      "['Unnamed: 0' 'zip' 'Agent_cd' 'credit_score' 'CAT_zone' 'number_drivers'\n",
      " 'num_loaned_veh' 'num_owned_veh' 'num_leased_veh' 'total_number_veh'\n",
      " 'convert_ind']\n"
     ]
    }
   ],
   "source": [
    "policy_data = DataValidation(policies_raw)\n",
    "print(policy_data.get_categoric())\n",
    "print(policy_data.get_numeric())"
   ]
  },
  {
   "cell_type": "code",
   "execution_count": null,
   "metadata": {},
   "outputs": [],
   "source": [
    "policy_data.print_missing()"
   ]
  },
  {
   "cell_type": "code",
   "execution_count": 5,
   "metadata": {},
   "outputs": [
    {
     "name": "stdout",
     "output_type": "stream",
     "text": [
      "Quote_dt:  ['2015-01-28' '2015-02-12' '2018-09-03' '2015-07-28' '2016-05-18'\n",
      " '2016-11-17' '2017-07-04' '2015-01-22' '2018-01-15' '2017-08-01']\n",
      "discount:  ['Yes' 'No']\n",
      "Home_policy_ind:  ['Y' 'N']\n",
      "state_id:  ['NY' 'FL' 'NJ' 'CT' 'MN' 'WI' 'AL' 'GA']\n",
      "county_name:  ['Bronx' 'Warren' 'Nassau' 'Miami-Dade' 'Monroe' 'Orange' 'Richmond'\n",
      " 'Middlesex' 'Fairfield' 'Washington']\n",
      "quoted_amt:  ['$5,153' '$9,870' '$3,090' '$2,860' '$14,917' '$4,620' '$11,470' '$2,980'\n",
      " '$1,945' '$5,829']\n",
      "Prior_carrier_grp:  ['Carrier_1' 'Carrier_4' 'Carrier_7' 'Carrier_3' 'Carrier_5' 'Carrier_6'\n",
      " nan 'Carrier_2' 'Carrier_8' 'Other']\n",
      "Cov_package_type:  ['High' 'Low' 'Medium' nan]\n",
      "policy_id:  ['policy_87209' 'policy_89288' 'policy_91413' 'policy_23460'\n",
      " 'policy_71845' 'policy_29027' 'policy_75562' 'policy_43809' 'policy_4590'\n",
      " 'policy_65525']\n",
      "split:  ['Train' 'Test']\n",
      "primary_parking:  ['home/driveway' 'unknown' 'parking garage' 'street']\n",
      "Unnamed: 0:  [ 1  2  3  4  5  6  7  8  9 10]\n",
      "zip:  [10465. 12801. 11548. 33141. 14622. 32811. 10306.  8904.  6907. 11550.]\n",
      "Agent_cd:  [15973623. 46978147. 32759856. 47310293. 15675431. 91762319. 97388179.\n",
      " 45747860. 30895563. 33958256.]\n",
      "credit_score:  [613. 576. 631. 573. 602. 704. 611. 679. 773. 680.]\n",
      "CAT_zone:  [ 2.  4.  3.  1.  5. nan]\n",
      "number_drivers:  [2 1 4 3 5 6]\n",
      "num_loaned_veh:  [1 2 0 3]\n",
      "num_owned_veh:  [2 1 3]\n",
      "num_leased_veh:  [0 2 1]\n",
      "total_number_veh:  [3 4 5 6 2 7 1 8]\n",
      "convert_ind:  [ 0. nan  1.]\n"
     ]
    }
   ],
   "source": [
    "data = [policy_data.get_categoric(), policy_data.get_numeric()]\n",
    "for L in data:\n",
    "    for col in L:\n",
    "        unique_vals = policy_data.raw_data[col].unique()\n",
    "        print(\"{}: \".format(col), unique_vals[:10]) # show only first 5 unique values"
   ]
  },
  {
   "cell_type": "markdown",
   "metadata": {},
   "source": [
    "From the above, one can observe that there are many missing values in the dataset. Additionally, some of the constraints implied in the dataset description are not being followed. A list of proposed constraints is shown below.\n",
    "\n",
    "Membership Constraints:\n",
    "- ~~state id must be within the set of ratified US states~~ \n",
    "\n",
    "Range Constraints:\n",
    "- credit score must be within standard range (i.e., [300, 850])\n",
    "\n",
    "Cross-validation Constraints:\n",
    "- ~~county name must be valid with resepect to state id~~\n",
    "\n",
    "Regular Expressions:\n",
    "- ~~zip code must follow standard US format~~\n",
    "- policy ID may follow a certain format\n",
    "- date must follow a valid format that is consistent\n",
    "- quoted amount must follow conventional monetary format\n",
    "    + data type of quote amount may be altered to more useable format\n",
    "\n",
    "Uniqueness Constraints:\n",
    "- customer identifiers must be unique\n",
    "- all observations must be unique\n",
    "\n",
    "Data-Type Constraints:\n",
    "- credit score should be int\n",
    "- all features should have consistent data-types\n",
    "- Y/N values are preferred to be consistent across dataset\n",
    "- all quote amounts must be in integer form"
   ]
  },
  {
   "cell_type": "code",
   "execution_count": 6,
   "metadata": {},
   "outputs": [],
   "source": [
    "# data-type constraints\n",
    "# data_types_dict = {'credit_score': int}\n",
    "# policies_raw = policies_raw.astype(data_types_dict)\n",
    "\n",
    "# membership constraints\n",
    "\n",
    "# range constraints\n",
    "# policies_raw = policies_raw[policies_raw['credit_score'] >= 350 and policies_raw['credit_score'] <= 850]\n",
    "# print(\"size after range constraints : {}\".format(policies_raw.shape[0]))\n"
   ]
  }
 ],
 "metadata": {
  "kernelspec": {
   "display_name": "Python 3.10.2 64-bit",
   "language": "python",
   "name": "python3"
  },
  "language_info": {
   "codemirror_mode": {
    "name": "ipython",
    "version": 3
   },
   "file_extension": ".py",
   "mimetype": "text/x-python",
   "name": "python",
   "nbconvert_exporter": "python",
   "pygments_lexer": "ipython3",
   "version": "3.10.2"
  },
  "orig_nbformat": 4,
  "vscode": {
   "interpreter": {
    "hash": "413c54d42d867d78bc5693b88112002b4b75f03abc9fed1665b973f73c05d110"
   }
  }
 },
 "nbformat": 4,
 "nbformat_minor": 2
}
