{
 "cells": [
  {
   "cell_type": "code",
   "execution_count": null,
   "metadata": {},
   "outputs": [],
   "source": [
    "# import utility modules\n",
    "import matplotlib.pyplot as plt\n",
    "import pandas as pd\n",
    "import numpy as np\n",
    "\n",
    "# load raw data\n",
    "policies_raw = pd.read_csv('data/policies.csv')\n",
    "drivers_raw = pd.read_csv('data/drivers.csv')\n",
    "vehicles_raw = pd.read_csv('data/vehicles.csv')"
   ]
  },
  {
   "cell_type": "code",
   "execution_count": null,
   "metadata": {},
   "outputs": [],
   "source": [
    "print(policies_raw.info())\n",
    "print(drivers_raw.info())\n",
    "print(vehicles_raw.info())"
   ]
  },
  {
   "cell_type": "markdown",
   "metadata": {},
   "source": [
    "Variable Identification:\n",
    "+ should variables be classified further (i.e., discrete, continuous, ordinal, nominal)?"
   ]
  },
  {
   "cell_type": "code",
   "execution_count": null,
   "metadata": {},
   "outputs": [],
   "source": [
    "class DataValidation:\n",
    "    # should init parameter be changed to df?\n",
    "    def __init__(self, path):\n",
    "        self.raw_data = pd.read_csv(path)\n",
    "        self.raw_catvars = self.raw_data.select_dtypes(exclude=[np.number])\n",
    "        self.raw_numvars = self.raw_data.select_dtypes(include=[np.number])\n",
    "\n",
    "    def get_categoric(self):\n",
    "        return self.raw_catvars.columns.values\n",
    "\n",
    "    def get_numeric(self):\n",
    "        return self.raw_numvars.columns.values\n",
    "\n",
    "    def missing(self)\n",
    "\n",
    "    # should this return a df?\n",
    "    def print_missing(self):\n",
    "        total_pct_missing = 0\n",
    "        colnum = 0\n",
    "        for col in self.raw_data.columns:\n",
    "            mean_missing = np.mean(self.raw_data[col].isnull())\n",
    "            pct_missing = round(mean_missing * 100, 5)\n",
    "            total_pct_missing += pct_missing\n",
    "\n",
    "            print(\"{}. {} - {}%\".format(colnum, col, pct_missing))\n",
    "            colnum += 1\n",
    "\n",
    "        print(\"\\n{}% missing in total\".format(total_pct_missing))"
   ]
  },
  {
   "cell_type": "code",
   "execution_count": null,
   "metadata": {},
   "outputs": [],
   "source": [
    "policy_data = DataValidation('data/policies.csv')\n",
    "print(policy_data.get_categoric())\n",
    "print(policy_data.get_numeric())"
   ]
  },
  {
   "cell_type": "code",
   "execution_count": null,
   "metadata": {},
   "outputs": [],
   "source": [
    "data = [policy_data.get_categoric(), policy_data.get_numeric()]\n",
    "for L in data:\n",
    "    for col in L:\n",
    "        unique_vals = policy_data.raw_data[col].unique()\n",
    "        print(\"{}: \".format(col), unique_vals[:5]) # show only first 5 unique values"
   ]
  },
  {
   "cell_type": "code",
   "execution_count": null,
   "metadata": {},
   "outputs": [],
   "source": [
    "policy_data.print_missing()"
   ]
  },
  {
   "cell_type": "markdown",
   "metadata": {},
   "source": [
    "From the above, one can observe that there are many missing values in the dataset. Additionally, some of the constraints implied in the dataset description are not being followed. A list of proposed constraints is shown below.\n",
    "\n",
    "Membership Constraints:\n",
    "- state id must be within the set of ratified US states\n",
    "\n",
    "Range Constraints:\n",
    "- credit score must be within standard range (i.e., [300, 850])\n",
    "\n",
    "Cross-validation Constraints:\n",
    "- county name must be valid with resepect to state id\n",
    "\n",
    "Regular Expressions:\n",
    "- zip code must follow standard US format\n",
    "- policy ID may follow a certain format\n",
    "- date must follow a valid format that is consistent\n",
    "- agent code must follow an 8-digit format\n",
    "- quoted amount must follow conventional monetary format\n",
    "    + data type of quote amount may be altered to more useable format\n",
    "\n",
    "Uniqueness Constraints:\n",
    "- customer identifiers must be unique\n",
    "- all observations must be unique\n",
    "\n",
    "Data-Type Constraints:\n",
    "- all features should have consistent data-types\n",
    "- Y/N values are preferred to be consistent across dataset"
   ]
  }
 ],
 "metadata": {
  "kernelspec": {
   "display_name": "Python 3.10.2 64-bit",
   "language": "python",
   "name": "python3"
  },
  "language_info": {
   "codemirror_mode": {
    "name": "ipython",
    "version": 3
   },
   "file_extension": ".py",
   "mimetype": "text/x-python",
   "name": "python",
   "nbconvert_exporter": "python",
   "pygments_lexer": "ipython3",
   "version": "3.10.2"
  },
  "orig_nbformat": 4,
  "vscode": {
   "interpreter": {
    "hash": "413c54d42d867d78bc5693b88112002b4b75f03abc9fed1665b973f73c05d110"
   }
  }
 },
 "nbformat": 4,
 "nbformat_minor": 2
}
