{
 "cells": [
  {
   "cell_type": "code",
   "execution_count": 1,
   "metadata": {},
   "outputs": [],
   "source": [
    "# import utility modules\n",
    "import matplotlib.pyplot as plt\n",
    "import pandas as pd\n",
    "import numpy as np\n",
    "\n",
    "# load raw data\n",
    "policies_raw = pd.read_csv('../data/policies.csv', index_col=0)\n",
    "drivers_raw = pd.read_csv('../data/drivers.csv', index_col=0)\n",
    "vehicles_raw = pd.read_csv('../data/drivers.csv', index_col=0)"
   ]
  },
  {
   "cell_type": "code",
   "execution_count": 2,
   "metadata": {},
   "outputs": [],
   "source": [
    "class DataValidation:\n",
    "    def __init__(self, df):\n",
    "        self.raw_data = df\n",
    "        self.complete_data = None  # implement this later\n",
    "        self.raw_catvars = self.raw_data.select_dtypes(exclude=[np.number])\n",
    "        self.raw_numvars = self.raw_data.select_dtypes(include=[np.number])\n",
    "\n",
    "    # returns numpy array of categorical variables as they appear in dataset\n",
    "    def get_categoric(self):\n",
    "        return self.raw_catvars.columns.values\n",
    "\n",
    "    # returns numpy array of numerical variables as they appear in dataset\n",
    "    def get_numeric(self):\n",
    "        return self.raw_numvars.columns.values\n",
    "\n",
    "    # returns df of pct missing data points for each predictor\n",
    "    def get_missing(self):\n",
    "        dict_missing = {'col':[], 'pct_missing':[]}\n",
    "\n",
    "        for col in self.raw_data.columns:\n",
    "            mean_missing = np.mean(self.raw_data[col].isnull())\n",
    "            pct_missing = round(mean_missing * 100, 5)\n",
    "            \n",
    "            dict_missing['col'].append(col)\n",
    "            dict_missing['pct_missing'].append(pct_missing)\n",
    "\n",
    "        df_missing = pd.DataFrame(data=dict_missing)\n",
    "        return df_missing"
   ]
  },
  {
   "cell_type": "code",
   "execution_count": 3,
   "metadata": {},
   "outputs": [],
   "source": [
    "policy_data = DataValidation(policies_raw)\n",
    "driver_data = DataValidation(drivers_raw)\n",
    "vehicle_data = DataValidation(vehicles_raw)"
   ]
  },
  {
   "cell_type": "code",
   "execution_count": 5,
   "metadata": {},
   "outputs": [
    {
     "data": {
      "text/html": [
       "<div>\n",
       "<style scoped>\n",
       "    .dataframe tbody tr th:only-of-type {\n",
       "        vertical-align: middle;\n",
       "    }\n",
       "\n",
       "    .dataframe tbody tr th {\n",
       "        vertical-align: top;\n",
       "    }\n",
       "\n",
       "    .dataframe thead th {\n",
       "        text-align: right;\n",
       "    }\n",
       "</style>\n",
       "<table border=\"1\" class=\"dataframe\">\n",
       "  <thead>\n",
       "    <tr style=\"text-align: right;\">\n",
       "      <th></th>\n",
       "      <th>col</th>\n",
       "      <th>pct_missing</th>\n",
       "    </tr>\n",
       "  </thead>\n",
       "  <tbody>\n",
       "    <tr>\n",
       "      <th>0</th>\n",
       "      <td>policy_id</td>\n",
       "      <td>0.00000</td>\n",
       "    </tr>\n",
       "    <tr>\n",
       "      <th>1</th>\n",
       "      <td>gender</td>\n",
       "      <td>0.00000</td>\n",
       "    </tr>\n",
       "    <tr>\n",
       "      <th>2</th>\n",
       "      <td>living_status</td>\n",
       "      <td>0.04704</td>\n",
       "    </tr>\n",
       "    <tr>\n",
       "      <th>3</th>\n",
       "      <td>age</td>\n",
       "      <td>0.00000</td>\n",
       "    </tr>\n",
       "    <tr>\n",
       "      <th>4</th>\n",
       "      <td>safty_rating</td>\n",
       "      <td>0.07244</td>\n",
       "    </tr>\n",
       "    <tr>\n",
       "      <th>5</th>\n",
       "      <td>high_education_ind</td>\n",
       "      <td>0.51085</td>\n",
       "    </tr>\n",
       "  </tbody>\n",
       "</table>\n",
       "</div>"
      ],
      "text/plain": [
       "                  col  pct_missing\n",
       "0           policy_id      0.00000\n",
       "1              gender      0.00000\n",
       "2       living_status      0.04704\n",
       "3                 age      0.00000\n",
       "4        safty_rating      0.07244\n",
       "5  high_education_ind      0.51085"
      ]
     },
     "execution_count": 5,
     "metadata": {},
     "output_type": "execute_result"
    }
   ],
   "source": [
    "driver_data.get_missing()"
   ]
  },
  {
   "cell_type": "code",
   "execution_count": null,
   "metadata": {},
   "outputs": [],
   "source": [
    "vehicle_data.get_missing()"
   ]
  },
  {
   "cell_type": "markdown",
   "metadata": {},
   "source": [
    "Membership Constraints:\n",
    "- ~~state id must be within the set of ratified US states~~ \n",
    "\n",
    "Range Constraints:\n",
    "- credit score must be within standard range (i.e., [300, 850])\n",
    "\n",
    "Cross-validation Constraints:\n",
    "- ~~county name must be valid with resepect to state id~~\n",
    "\n",
    "Regular Expressions:\n",
    "- ~~zip code must follow standard US format~~\n",
    "- policy ID may follow a certain format\n",
    "- date must follow a valid format that is consistent\n",
    "- quoted amount must follow conventional monetary format\n",
    "    + data type of quote amount may be altered to more useable format\n",
    "\n",
    "Uniqueness Constraints:\n",
    "- customer identifiers must be unique\n",
    "- all observations must be unique\n",
    "\n",
    "Data-Type Constraints:\n",
    "- credit score should be int\n",
    "- all features should have consistent data-types\n",
    "- Y/N values are preferred to be consistent across dataset\n",
    "- all quote amounts must be in integer form"
   ]
  },
  {
   "cell_type": "code",
   "execution_count": 4,
   "metadata": {},
   "outputs": [],
   "source": [
    "# data-type constraints\n",
    "# data_types_dict = {'credit_score': int}\n",
    "# policies_raw = policies_raw.astype(data_types_dict)\n",
    "\n",
    "# membership constraints\n",
    "\n",
    "# range constraints\n",
    "# policies_raw = policies_raw[policies_raw['credit_score'] >= 350 and policies_raw['credit_score'] <= 850]\n",
    "# print(\"size after range constraints : {}\".format(policies_raw.shape[0]))\n"
   ]
  }
 ],
 "metadata": {
  "kernelspec": {
   "display_name": "Python 3.10.2 64-bit",
   "language": "python",
   "name": "python3"
  },
  "language_info": {
   "codemirror_mode": {
    "name": "ipython",
    "version": 3
   },
   "file_extension": ".py",
   "mimetype": "text/x-python",
   "name": "python",
   "nbconvert_exporter": "python",
   "pygments_lexer": "ipython3",
   "version": "3.10.2"
  },
  "orig_nbformat": 4,
  "vscode": {
   "interpreter": {
    "hash": "413c54d42d867d78bc5693b88112002b4b75f03abc9fed1665b973f73c05d110"
   }
  }
 },
 "nbformat": 4,
 "nbformat_minor": 2
}
