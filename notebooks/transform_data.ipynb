{
 "cells": [
  {
   "cell_type": "code",
   "execution_count": 2,
   "metadata": {},
   "outputs": [
    {
     "name": "stdout",
     "output_type": "stream",
     "text": [
      "          policy_id  F  M  dependent  own  rent      age_x  safty_rating  \\\n",
      "0        policy_100  1  1        1.0  1.0   0.0  33.500000     75.500000   \n",
      "1       policy_1000  0  1        0.0  0.0   1.0  35.000000     50.000000   \n",
      "2      policy_10001  2  1        2.0  1.0   0.0  24.666667     59.333333   \n",
      "3      policy_10002  1  4        4.0  0.0   1.0  24.000000     76.000000   \n",
      "4      policy_10004  2  3        3.0  2.0   0.0  28.200000     72.000000   \n",
      "...             ... .. ..        ...  ...   ...        ...           ...   \n",
      "49157  policy_99994  2  1        2.0  1.0   0.0  28.000000     80.333333   \n",
      "49158  policy_99996  0  1        0.0  0.0   1.0  54.000000     96.000000   \n",
      "49159  policy_99997  0  2        0.0  0.0   2.0  51.000000     84.000000   \n",
      "49160  policy_99998  0  1        0.0  1.0   0.0  49.000000     58.000000   \n",
      "49161  policy_99999  0  2        1.0  1.0   0.0  57.500000     72.000000   \n",
      "\n",
      "       high_education_ind    Quote_dt  ... GMC HONDA  MAZDA MERCEDES-BENZ  \\\n",
      "0                0.500000  2017-06-11  ...   0     1      1             0   \n",
      "1                1.000000  2018-03-24  ...   0     0      0             0   \n",
      "2                0.333333  2016-02-03  ...   0     0      0             1   \n",
      "3                0.200000  2018-07-04  ...   0     1      0             0   \n",
      "4                0.250000  2015-10-21  ...   0     0      0             0   \n",
      "...                   ...         ...  ...  ..   ...    ...           ...   \n",
      "49157            0.000000  2018-01-24  ...   0     0      0             0   \n",
      "49158            0.000000  2015-08-31  ...   0     2      0             0   \n",
      "49159            1.000000  2018-11-13  ...   0     0      0             0   \n",
      "49160            0.000000  2016-10-09  ...   0     0      0             0   \n",
      "49161            0.500000  2016-08-27  ...   0     4      0             0   \n",
      "\n",
      "      NISSAN  RAM SATURN SMART  SUBARU TOYOTA  \n",
      "0          1    0      0     0       0      1  \n",
      "1          1    0      0     0       0      0  \n",
      "2          0    0      0     0       0      0  \n",
      "3          0    0      0     0       0      0  \n",
      "4          0    0      0     0       0      0  \n",
      "...      ...  ...    ...   ...     ...    ...  \n",
      "49157      2    0      1     0       0      1  \n",
      "49158      0    0      0     0       0      0  \n",
      "49159      0    0      0     0       0      0  \n",
      "49160      0    0      0     0       0      1  \n",
      "49161      2    0      0     0       0      0  \n",
      "\n",
      "[49162 rows x 59 columns]\n"
     ]
    }
   ],
   "source": [
    "import numpy as np \n",
    "import pandas as pd \n",
    "        \n",
    "\n",
    "drivers = pd.read_csv('../Data/drivers.csv')\n",
    "policies = pd.read_csv('../Data/policies.csv')\n",
    "vehicles = pd.read_csv('../Data/vehicles.csv')\n",
    "\n",
    "drivers.drop(columns = ['Unnamed: 0'], inplace = True)\n",
    "policies.drop(columns = ['Unnamed: 0'], inplace = True)\n",
    "vehicles.drop(columns = ['Unnamed: 0'], inplace = True)\n",
    "\n",
    "d1 = drivers.pivot_table(index=['policy_id'], columns = 'gender', aggfunc = 'size', fill_value=0)\n",
    "d2 = drivers.pivot_table(index=['policy_id'], columns = 'living_status', aggfunc = 'size', fill_value=0)\n",
    "d3 = drivers.groupby(['policy_id']).mean()\n",
    "\n",
    "drivers2 = d1.merge(d2, how = 'left', on = 'policy_id')\n",
    "drivers2 = drivers2.merge(d3, on = 'policy_id')\n",
    "\n",
    "v1 = vehicles.pivot_table(index=['policy_id'], columns = 'ownership_type', aggfunc = 'size', fill_value=0)\n",
    "v2 = vehicles.pivot_table(index=['policy_id'], columns = 'color', aggfunc = 'size', fill_value=0)\n",
    "v3 = vehicles.groupby(['policy_id'])['age'].mean()\n",
    "vsplit = vehicles.make_model.str.split(\" : \")\n",
    "vehicles['make'] = [v[0] for v in vsplit]\n",
    "vehicles['model'] = [v[1] for v in vsplit]\n",
    "v4 = vehicles.pivot_table(index=['policy_id'], columns = 'make', aggfunc = 'size', fill_value=0)\n",
    "# v5 = vehicles.pivot_table(index=['policy_id'], columns = 'model', aggfunc = 'size', fill_value=0)\n",
    "\n",
    "vehicles2 = v1.merge(v2, how = 'left', on = 'policy_id')\n",
    "vehicles2 = vehicles2.merge(v3, on = 'policy_id')\n",
    "vehicles2 = vehicles2.merge(v4, on = 'policy_id')\n",
    "\n",
    "df = drivers2.merge(policies, on = 'policy_id')\n",
    "df = df.merge(vehicles2, on = 'policy_id')\n",
    "\n",
    "print(df)\n",
    "\n",
    "# You can write up to 20GB to the current directory (/kaggle/working/) that gets preserved as output when you create a version using \"Save & Run All\" \n",
    "# You can also write temporary files to /kaggle/temp/, but they won't be saved outside of the current session"
   ]
  }
 ],
 "metadata": {
  "kernelspec": {
   "display_name": "Python 3.10.2 64-bit",
   "language": "python",
   "name": "python3"
  },
  "language_info": {
   "codemirror_mode": {
    "name": "ipython",
    "version": 3
   },
   "file_extension": ".py",
   "mimetype": "text/x-python",
   "name": "python",
   "nbconvert_exporter": "python",
   "pygments_lexer": "ipython3",
   "version": "3.10.2"
  },
  "orig_nbformat": 4,
  "vscode": {
   "interpreter": {
    "hash": "aee8b7b246df8f9039afb4144a1f6fd8d2ca17a180786b69acc140d282b71a49"
   }
  }
 },
 "nbformat": 4,
 "nbformat_minor": 2
}
