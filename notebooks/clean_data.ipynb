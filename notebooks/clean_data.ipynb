{
 "cells": [
  {
   "cell_type": "code",
   "execution_count": 1,
   "metadata": {},
   "outputs": [],
   "source": [
    "import os\n",
    "import sys\n",
    "directory_path = os.path.abspath('/notebooks/')\n",
    "if directory_path not in sys.path:\n",
    "    sys.path.append(directory_path)\n",
    "\n",
    "import pandas as pd\n",
    "import numpy as np"
   ]
  },
  {
   "cell_type": "code",
   "execution_count": 13,
   "metadata": {},
   "outputs": [
    {
     "name": "stdout",
     "output_type": "stream",
     "text": [
      "49162\n"
     ]
    }
   ],
   "source": [
    "policies_raw = pd.read_csv('../data/policies.csv')\n",
    "cols_to_drop = ['zip', 'county_name', 'Agent_cd']\n",
    "policies_raw = policies_raw.drop(cols_to_drop, axis=1)\n",
    "\n",
    "df = policies_raw\n",
    "\n",
    "before = df.shape[0]\n",
    "df = df.dropna()\n",
    "after = df.shape[0]\n",
    "print(before)"
   ]
  },
  {
   "cell_type": "code",
   "execution_count": 11,
   "metadata": {},
   "outputs": [
    {
     "name": "stdout",
     "output_type": "stream",
     "text": [
      "16986\n",
      "(array([False,  True]), array([32176, 16986], dtype=int64))\n"
     ]
    }
   ],
   "source": [
    "from hash_map import Mapping\n",
    "\n",
    "dropped_policy_ids = Mapping()\n",
    "\n",
    "# verify that counts of is_missing is correct\n",
    "df = policies_raw\n",
    "before = df.shape[0]\n",
    "df = df.dropna()\n",
    "after = df.shape[0]\n",
    "print(before - after)\n",
    "\n",
    "# TODO: fix hash mapping dropped policy ids\n",
    "df_missing_vals = policies_raw.dropna(how='all').dropna(how='all', axis=1)\n",
    "is_missing = df_missing_vals.isnull().any(axis=1)\n",
    "print(np.unique(is_missing, return_counts=True))\n",
    "# print(len(is_missing.filter(like=\"\")))\n",
    "# for item in range(len(is_missing)):\n",
    "#     if is_missing[item]: dropped_policy_ids.hash(policies_raw['policy_id'][item])\n"
   ]
  }
 ],
 "metadata": {
  "kernelspec": {
   "display_name": "Python 3.10.2 64-bit",
   "language": "python",
   "name": "python3"
  },
  "language_info": {
   "codemirror_mode": {
    "name": "ipython",
    "version": 3
   },
   "file_extension": ".py",
   "mimetype": "text/x-python",
   "name": "python",
   "nbconvert_exporter": "python",
   "pygments_lexer": "ipython3",
   "version": "3.10.2"
  },
  "orig_nbformat": 4,
  "vscode": {
   "interpreter": {
    "hash": "413c54d42d867d78bc5693b88112002b4b75f03abc9fed1665b973f73c05d110"
   }
  }
 },
 "nbformat": 4,
 "nbformat_minor": 2
}
