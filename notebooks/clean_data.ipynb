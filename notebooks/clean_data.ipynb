{
 "cells": [
  {
   "cell_type": "code",
   "execution_count": 20,
   "metadata": {},
   "outputs": [],
   "source": [
    "import os\n",
    "import sys\n",
    "directory_path = os.path.abspath('/notebooks/')\n",
    "if directory_path not in sys.path:\n",
    "    sys.path.append(directory_path)\n",
    "\n",
    "import pandas as pd\n",
    "import numpy as np"
   ]
  },
  {
   "cell_type": "code",
   "execution_count": 21,
   "metadata": {},
   "outputs": [],
   "source": [
    "policies_raw = pd.read_csv('../data/policies.csv')"
   ]
  },
  {
   "cell_type": "code",
   "execution_count": 33,
   "metadata": {},
   "outputs": [
    {
     "name": "stdout",
     "output_type": "stream",
     "text": [
      "1081564\n",
      "623788\n",
      "(array([False,  True]), array([28354, 20808], dtype=int64))\n"
     ]
    }
   ],
   "source": [
    "from hash_map import Mapping\n",
    "\n",
    "dropped_policy_ids = Mapping()\n",
    "\n",
    "# verify that counts of is_missing is correct\n",
    "df = policies_raw\n",
    "print(df.shape[0])\n",
    "df = df.dropna()\n",
    "print(df.shape[0])\n",
    "\n",
    "# TODO: fix hash mapping dropped policy ids\n",
    "df_missing_vals = policies_raw.dropna(how='all').dropna(how='all', axis=1)\n",
    "is_missing = df_missing_vals.isnull().any(axis=1)\n",
    "print(np.unique(is_missing, return_counts=True))\n",
    "# print(len(is_missing.filter(like=\"\")))\n",
    "# for item in range(len(is_missing)):\n",
    "#     if is_missing[item]: dropped_policy_ids.hash(policies_raw['policy_id'][item])\n"
   ]
  }
 ],
 "metadata": {
  "kernelspec": {
   "display_name": "Python 3.10.2 64-bit",
   "language": "python",
   "name": "python3"
  },
  "language_info": {
   "codemirror_mode": {
    "name": "ipython",
    "version": 3
   },
   "file_extension": ".py",
   "mimetype": "text/x-python",
   "name": "python",
   "nbconvert_exporter": "python",
   "pygments_lexer": "ipython3",
   "version": "3.10.2"
  },
  "orig_nbformat": 4,
  "vscode": {
   "interpreter": {
    "hash": "413c54d42d867d78bc5693b88112002b4b75f03abc9fed1665b973f73c05d110"
   }
  }
 },
 "nbformat": 4,
 "nbformat_minor": 2
}
