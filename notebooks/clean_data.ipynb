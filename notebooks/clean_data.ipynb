{
 "cells": [
  {
   "cell_type": "code",
   "execution_count": null,
   "metadata": {},
   "outputs": [],
   "source": [
    "import pandas as pd\n",
    "import numpy as np"
   ]
  },
  {
   "cell_type": "code",
   "execution_count": null,
   "metadata": {},
   "outputs": [],
   "source": [
    "train_policies_complete = pd.read_csv('../data/train_policies_complete.csv', index_col=0)\n",
    "test_policies_complete = pd.read_csv('../data/test_policies_complete.csv', index_col=0)"
   ]
  },
  {
   "cell_type": "code",
   "execution_count": null,
   "metadata": {},
   "outputs": [],
   "source": [
    "class CleanData:\n",
    "    def __init__(self, df):\n",
    "        self._data = df\n",
    "        self.raw_catvars = self._data.select_dtypes(exclude=[np.number])\n",
    "        self.raw_numvars = self._data.select_dtypes(include=[np.number])\n",
    "    \n",
    "    # returns numpy array of categorical variables as they appear in dataset\n",
    "    def get_categoric(self):\n",
    "        return self.raw_catvars.columns.values\n",
    "\n",
    "    # returns numpy array of numerical variables as they appear in dataset\n",
    "    def get_numeric(self):\n",
    "        return self.raw_numvars.columns.values\n",
    "\n",
    "    def credit_level(self, score):\n",
    "            if score >= 300 and score <= 629:\n",
    "                return 'Bad'\n",
    "            elif score >= 630 and score <= 689:\n",
    "                return 'Fair'\n",
    "            elif score >= 690 and score <= 719:\n",
    "                return 'Good'\n",
    "            else:\n",
    "                return 'Excellent'\n",
    "\n",
    "    # doesn't really \"clean data\" atm, just groups variables \n",
    "    def clean_data(self):\n",
    "        # group 'credit_score' by rating\n",
    "        self._data['credit_score'] = pd.Series(self.credit_level(score) for score in self._data['credit_score'])\n",
    "        \n",
    "        # group 'Quote_dt' by year\n",
    "        self._data['Quote_dt'] = self._data['Quote_dt'].str[:4]\n",
    "\n",
    "        # group 'state_id' by region\n",
    "        region = {'WI':'midwest', 'MN':'midwest', 'FL':'southeast', 'GA':'southeast', 'AL':'southeast', \n",
    "                    'NY':'northeast', 'NJ':'northeast', 'CT':'northeast'}\n",
    "        self._data['state_id'] = pd.Series(region[state] for state in self._data['state_id'])\n",
    "\n",
    "        # regex 'quoted_amt' to float\n",
    "        self._data['quoted_amt'] = self._data['quoted_amt'].replace('[\\$,]', '', regex=True).astype(float)\n",
    "\n",
    "        # binary encode 'discount' and 'Home_poilcy_ind'\n",
    "        self._data['discount'] = self._data['discount'].apply(lambda x: 0 if x == 'No' else 1)\n",
    "        self._data['Home_policy_ind'] = self._data['Home_policy_ind'].apply(lambda x: 0 if x == 'N' else 1)\n"
   ]
  },
  {
   "cell_type": "code",
   "execution_count": null,
   "metadata": {},
   "outputs": [],
   "source": [
    "train_policy = CleanData(train_policies_complete)\n",
    "test_policy = CleanData(test_policies_complete)"
   ]
  },
  {
   "cell_type": "code",
   "execution_count": null,
   "metadata": {},
   "outputs": [],
   "source": [
    "train_policy.clean_data()"
   ]
  },
  {
   "cell_type": "code",
   "execution_count": null,
   "metadata": {},
   "outputs": [],
   "source": [
    "train_policy._data = pd.get_dummies(train_policy._data, columns=['Quote_dt', 'state_id', 'Prior_carrier_grp'])"
   ]
  },
  {
   "cell_type": "code",
   "execution_count": null,
   "metadata": {},
   "outputs": [],
   "source": [
    "# print(train_policy.get_numeric())\n",
    "# large = ['credit_score']\n",
    "# for col in train_policy.get_numeric():\n",
    "#     if col not in large:\n",
    "#         print(\"{}: {}\".format(col, train_policy._data[col].unique()))"
   ]
  },
  {
   "cell_type": "code",
   "execution_count": null,
   "metadata": {},
   "outputs": [],
   "source": [
    "# for col in train_policy.get_categoric():\n",
    "#     print(\"{}: {}\".format(col, train_policy._data[col].unique()))"
   ]
  }
 ],
 "metadata": {
  "kernelspec": {
   "display_name": "Python 3.10.2 64-bit",
   "language": "python",
   "name": "python3"
  },
  "language_info": {
   "codemirror_mode": {
    "name": "ipython",
    "version": 3
   },
   "file_extension": ".py",
   "mimetype": "text/x-python",
   "name": "python",
   "nbconvert_exporter": "python",
   "pygments_lexer": "ipython3",
   "version": "3.10.2"
  },
  "orig_nbformat": 4,
  "vscode": {
   "interpreter": {
    "hash": "413c54d42d867d78bc5693b88112002b4b75f03abc9fed1665b973f73c05d110"
   }
  }
 },
 "nbformat": 4,
 "nbformat_minor": 2
}
