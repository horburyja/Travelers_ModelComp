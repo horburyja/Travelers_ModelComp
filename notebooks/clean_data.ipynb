{
 "cells": [
  {
   "cell_type": "code",
   "execution_count": 85,
   "metadata": {},
   "outputs": [],
   "source": [
    "import pandas as pd\n",
    "import numpy as np"
   ]
  },
  {
   "cell_type": "code",
   "execution_count": 86,
   "metadata": {},
   "outputs": [],
   "source": [
    "train_policies_complete = pd.read_csv('../data/train_policies_complete.csv', index_col=0)"
   ]
  },
  {
   "cell_type": "code",
   "execution_count": 87,
   "metadata": {},
   "outputs": [],
   "source": [
    "class DataValidation:\n",
    "    def __init__(self, df):\n",
    "        self._data = df\n",
    "        self.clean = None\n",
    "        self.raw_catvars = self._data.select_dtypes(exclude=[np.number])\n",
    "        self.raw_numvars = self._data.select_dtypes(include=[np.number])\n",
    "\n",
    "    # returns numpy array of categorical variables as they appear in dataset\n",
    "    def get_categoric(self):\n",
    "        return self.raw_catvars.columns.values\n",
    "\n",
    "    # returns numpy array of numerical variables as they appear in dataset\n",
    "    def get_numeric(self):\n",
    "        return self.raw_numvars.columns.values\n",
    "\n",
    "    # returns df of pct missing data points for each predictor\n",
    "    def get_missing(self):\n",
    "        dict_missing = {'col':[], 'pct_missing':[]}\n",
    "\n",
    "        for col in self._data.columns:\n",
    "            mean_missing = np.mean(self._data[col].isnull())\n",
    "            pct_missing = round(mean_missing * 100, 5)\n",
    "            \n",
    "            dict_missing['col'].append(col)\n",
    "            dict_missing['pct_missing'].append(pct_missing)\n",
    "\n",
    "        df_missing = pd.DataFrame(data=dict_missing)\n",
    "        return df_missing"
   ]
  },
  {
   "cell_type": "code",
   "execution_count": 88,
   "metadata": {},
   "outputs": [],
   "source": [
    "train_policy = DataValidation(train_policies_complete)"
   ]
  },
  {
   "cell_type": "code",
   "execution_count": 89,
   "metadata": {},
   "outputs": [
    {
     "name": "stdout",
     "output_type": "stream",
     "text": [
      "['credit_score' 'CAT_zone' 'number_drivers' 'num_loaned_veh'\n",
      " 'num_owned_veh' 'num_leased_veh' 'total_number_veh' 'convert_ind']\n",
      "CAT_zone: [2. 4. 1. 5. 3.]\n",
      "number_drivers: [2 1 4 3 5 6]\n",
      "num_loaned_veh: [1 0 2 3]\n",
      "num_owned_veh: [2 1 3]\n",
      "num_leased_veh: [0 1 2]\n",
      "total_number_veh: [3 4 6 2 5 7 1 8]\n",
      "convert_ind: [0. 1.]\n"
     ]
    }
   ],
   "source": [
    "print(train_policy.get_numeric())\n",
    "large = ['credit_score']\n",
    "for col in train_policy.get_numeric():\n",
    "    if col not in large:\n",
    "        print(\"{}: {}\".format(col, train_policy._data[col].unique()))"
   ]
  },
  {
   "cell_type": "code",
   "execution_count": 90,
   "metadata": {},
   "outputs": [
    {
     "name": "stdout",
     "output_type": "stream",
     "text": [
      "Quote_dt: ['2015-01-28' '2018-09-03' '2016-05-18' ... '2017-06-08' '2017-04-27'\n",
      " '2017-10-02']\n",
      "discount: ['Yes' 'No']\n",
      "Home_policy_ind: ['Y' 'N']\n",
      "state_id: ['NY' 'FL' 'MN' 'NJ' 'WI' 'CT' 'GA' 'AL']\n",
      "quoted_amt: ['$5,153' '$3,090' '$14,917' ... '$6,669' '$271' '$8,428']\n",
      "Prior_carrier_grp: ['Carrier_1' 'Carrier_4' 'Carrier_3' 'Carrier_5' 'Carrier_2' 'Carrier_8'\n",
      " 'Carrier_6' 'Carrier_7' 'Other']\n",
      "Cov_package_type: ['High' 'Medium' 'Low']\n",
      "policy_id: ['policy_87209' 'policy_91413' 'policy_71845' ... 'policy_67016'\n",
      " 'policy_30163' 'policy_63982']\n",
      "primary_parking: ['home/driveway' 'unknown' 'parking garage' 'street']\n"
     ]
    }
   ],
   "source": [
    "for col in train_policy.get_categoric():\n",
    "    print(\"{}: {}\".format(col, train_policy._data[col].unique()))"
   ]
  },
  {
   "cell_type": "code",
   "execution_count": 91,
   "metadata": {},
   "outputs": [],
   "source": [
    "# group 'credit_score' by rating\n",
    "def credit_level(score):\n",
    "    if score >= 300 and score <= 629:\n",
    "        return 'Bad'\n",
    "    elif score >= 630 and score <= 689:\n",
    "        return 'Fair'\n",
    "    elif score >= 690 and score <= 719:\n",
    "        return 'Good'\n",
    "    else:\n",
    "        return 'Excellent'\n",
    "train_policy._data['credit_score'] = pd.Series(credit_level(score) for score in train_policy._data['credit_score'])"
   ]
  },
  {
   "cell_type": "code",
   "execution_count": 92,
   "metadata": {},
   "outputs": [],
   "source": [
    "# group 'Quote_dt' by year\n",
    "train_policy._data['Quote_dt'] = train_policy._data['Quote_dt'].str[:4]"
   ]
  },
  {
   "cell_type": "code",
   "execution_count": 93,
   "metadata": {},
   "outputs": [],
   "source": [
    "# group 'state_id' by region\n",
    "region = {'WI':'midwest', 'MN':'midwest', 'FL':'southeast', 'GA':'southeast', 'AL':'southeast', 'NY':'northeast', \n",
    "            'NJ':'northeast', 'CT':'northeast'}\n",
    "train_policy._data['state_id'] = pd.Series(region[state] for state in train_policy._data['state_id'])"
   ]
  },
  {
   "cell_type": "code",
   "execution_count": 94,
   "metadata": {},
   "outputs": [],
   "source": [
    "# regex 'quoted_amt' to float\n",
    "train_policy._data['quoted_amt'] = train_policy._data['quoted_amt'].replace('[\\$,]', '', regex=True).astype(float)"
   ]
  },
  {
   "cell_type": "code",
   "execution_count": 95,
   "metadata": {},
   "outputs": [],
   "source": [
    "# binary encode 'discount' and 'Home_poilcy_ind'\n",
    "train_policy._data['discount'] = train_policy._data['discount'].apply(lambda x: 0 if x == 'No' else 1)\n",
    "train_policy._data['Home_policy_ind'] = train_policy._data['Home_policy_ind'].apply(lambda x: 0 if x == 'N' else 1)"
   ]
  },
  {
   "cell_type": "code",
   "execution_count": 96,
   "metadata": {},
   "outputs": [
    {
     "data": {
      "text/html": [
       "<div>\n",
       "<style scoped>\n",
       "    .dataframe tbody tr th:only-of-type {\n",
       "        vertical-align: middle;\n",
       "    }\n",
       "\n",
       "    .dataframe tbody tr th {\n",
       "        vertical-align: top;\n",
       "    }\n",
       "\n",
       "    .dataframe thead th {\n",
       "        text-align: right;\n",
       "    }\n",
       "</style>\n",
       "<table border=\"1\" class=\"dataframe\">\n",
       "  <thead>\n",
       "    <tr style=\"text-align: right;\">\n",
       "      <th></th>\n",
       "      <th>Quote_dt</th>\n",
       "      <th>discount</th>\n",
       "      <th>Home_policy_ind</th>\n",
       "      <th>state_id</th>\n",
       "      <th>quoted_amt</th>\n",
       "      <th>Prior_carrier_grp</th>\n",
       "      <th>credit_score</th>\n",
       "      <th>Cov_package_type</th>\n",
       "      <th>CAT_zone</th>\n",
       "      <th>policy_id</th>\n",
       "      <th>number_drivers</th>\n",
       "      <th>num_loaned_veh</th>\n",
       "      <th>num_owned_veh</th>\n",
       "      <th>num_leased_veh</th>\n",
       "      <th>total_number_veh</th>\n",
       "      <th>convert_ind</th>\n",
       "      <th>primary_parking</th>\n",
       "    </tr>\n",
       "  </thead>\n",
       "  <tbody>\n",
       "    <tr>\n",
       "      <th>1</th>\n",
       "      <td>2015</td>\n",
       "      <td>1</td>\n",
       "      <td>1</td>\n",
       "      <td>northeast</td>\n",
       "      <td>5153.0</td>\n",
       "      <td>Carrier_1</td>\n",
       "      <td>Fair</td>\n",
       "      <td>High</td>\n",
       "      <td>2.0</td>\n",
       "      <td>policy_87209</td>\n",
       "      <td>2</td>\n",
       "      <td>1</td>\n",
       "      <td>2</td>\n",
       "      <td>0</td>\n",
       "      <td>3</td>\n",
       "      <td>0.0</td>\n",
       "      <td>home/driveway</td>\n",
       "    </tr>\n",
       "    <tr>\n",
       "      <th>3</th>\n",
       "      <td>2018</td>\n",
       "      <td>0</td>\n",
       "      <td>0</td>\n",
       "      <td>southeast</td>\n",
       "      <td>3090.0</td>\n",
       "      <td>Carrier_4</td>\n",
       "      <td>Good</td>\n",
       "      <td>Medium</td>\n",
       "      <td>2.0</td>\n",
       "      <td>policy_91413</td>\n",
       "      <td>2</td>\n",
       "      <td>1</td>\n",
       "      <td>2</td>\n",
       "      <td>1</td>\n",
       "      <td>4</td>\n",
       "      <td>0.0</td>\n",
       "      <td>unknown</td>\n",
       "    </tr>\n",
       "    <tr>\n",
       "      <th>5</th>\n",
       "      <td>2016</td>\n",
       "      <td>0</td>\n",
       "      <td>0</td>\n",
       "      <td>midwest</td>\n",
       "      <td>14917.0</td>\n",
       "      <td>Carrier_3</td>\n",
       "      <td>Fair</td>\n",
       "      <td>Medium</td>\n",
       "      <td>4.0</td>\n",
       "      <td>policy_71845</td>\n",
       "      <td>2</td>\n",
       "      <td>0</td>\n",
       "      <td>1</td>\n",
       "      <td>2</td>\n",
       "      <td>3</td>\n",
       "      <td>0.0</td>\n",
       "      <td>unknown</td>\n",
       "    </tr>\n",
       "    <tr>\n",
       "      <th>6</th>\n",
       "      <td>2016</td>\n",
       "      <td>0</td>\n",
       "      <td>0</td>\n",
       "      <td>southeast</td>\n",
       "      <td>4620.0</td>\n",
       "      <td>Carrier_4</td>\n",
       "      <td>Excellent</td>\n",
       "      <td>High</td>\n",
       "      <td>1.0</td>\n",
       "      <td>policy_29027</td>\n",
       "      <td>1</td>\n",
       "      <td>2</td>\n",
       "      <td>2</td>\n",
       "      <td>0</td>\n",
       "      <td>4</td>\n",
       "      <td>0.0</td>\n",
       "      <td>parking garage</td>\n",
       "    </tr>\n",
       "    <tr>\n",
       "      <th>7</th>\n",
       "      <td>2017</td>\n",
       "      <td>0</td>\n",
       "      <td>0</td>\n",
       "      <td>southeast</td>\n",
       "      <td>11470.0</td>\n",
       "      <td>Carrier_5</td>\n",
       "      <td>Bad</td>\n",
       "      <td>High</td>\n",
       "      <td>4.0</td>\n",
       "      <td>policy_75562</td>\n",
       "      <td>4</td>\n",
       "      <td>2</td>\n",
       "      <td>2</td>\n",
       "      <td>2</td>\n",
       "      <td>6</td>\n",
       "      <td>0.0</td>\n",
       "      <td>home/driveway</td>\n",
       "    </tr>\n",
       "  </tbody>\n",
       "</table>\n",
       "</div>"
      ],
      "text/plain": [
       "  Quote_dt  discount  Home_policy_ind   state_id  quoted_amt  \\\n",
       "1     2015         1                1  northeast      5153.0   \n",
       "3     2018         0                0  southeast      3090.0   \n",
       "5     2016         0                0    midwest     14917.0   \n",
       "6     2016         0                0  southeast      4620.0   \n",
       "7     2017         0                0  southeast     11470.0   \n",
       "\n",
       "  Prior_carrier_grp credit_score Cov_package_type  CAT_zone     policy_id  \\\n",
       "1         Carrier_1         Fair             High       2.0  policy_87209   \n",
       "3         Carrier_4         Good           Medium       2.0  policy_91413   \n",
       "5         Carrier_3         Fair           Medium       4.0  policy_71845   \n",
       "6         Carrier_4    Excellent             High       1.0  policy_29027   \n",
       "7         Carrier_5          Bad             High       4.0  policy_75562   \n",
       "\n",
       "   number_drivers  num_loaned_veh  num_owned_veh  num_leased_veh  \\\n",
       "1               2               1              2               0   \n",
       "3               2               1              2               1   \n",
       "5               2               0              1               2   \n",
       "6               1               2              2               0   \n",
       "7               4               2              2               2   \n",
       "\n",
       "   total_number_veh  convert_ind primary_parking  \n",
       "1                 3          0.0   home/driveway  \n",
       "3                 4          0.0         unknown  \n",
       "5                 3          0.0         unknown  \n",
       "6                 4          0.0  parking garage  \n",
       "7                 6          0.0   home/driveway  "
      ]
     },
     "execution_count": 96,
     "metadata": {},
     "output_type": "execute_result"
    }
   ],
   "source": [
    "train_policy._data.head()"
   ]
  }
 ],
 "metadata": {
  "kernelspec": {
   "display_name": "Python 3.10.2 64-bit",
   "language": "python",
   "name": "python3"
  },
  "language_info": {
   "codemirror_mode": {
    "name": "ipython",
    "version": 3
   },
   "file_extension": ".py",
   "mimetype": "text/x-python",
   "name": "python",
   "nbconvert_exporter": "python",
   "pygments_lexer": "ipython3",
   "version": "3.10.2"
  },
  "orig_nbformat": 4,
  "vscode": {
   "interpreter": {
    "hash": "413c54d42d867d78bc5693b88112002b4b75f03abc9fed1665b973f73c05d110"
   }
  }
 },
 "nbformat": 4,
 "nbformat_minor": 2
}
