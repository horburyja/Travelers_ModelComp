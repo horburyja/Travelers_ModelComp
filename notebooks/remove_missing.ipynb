{
 "cells": [
  {
   "cell_type": "code",
   "execution_count": 62,
   "metadata": {},
   "outputs": [],
   "source": [
    "# import utility modules\n",
    "import pandas as pd\n",
    "import numpy as np"
   ]
  },
  {
   "cell_type": "code",
   "execution_count": 63,
   "metadata": {},
   "outputs": [],
   "source": [
    "# load raw datasets\n",
    "policies_raw = pd.read_csv('../data/policies.csv', index_col=0)\n",
    "cols_to_drop = ['zip', 'county_name', 'Agent_cd']\n",
    "policies_raw = policies_raw.drop(cols_to_drop, axis=1) # drop extraneous columns\n",
    "drivers_raw = pd.read_csv('../data/drivers.csv', index_col=0)\n",
    "vehicles_raw = pd.read_csv('../data/drivers.csv', index_col=0)"
   ]
  },
  {
   "cell_type": "code",
   "execution_count": 64,
   "metadata": {},
   "outputs": [
    {
     "name": "stdout",
     "output_type": "stream",
     "text": [
      "49162\n",
      "106294\n",
      "106294\n"
     ]
    }
   ],
   "source": [
    "# check number of initial rows in each df\n",
    "print(len(policies_raw))\n",
    "print(len(drivers_raw))\n",
    "print(len(vehicles_raw))"
   ]
  },
  {
   "cell_type": "code",
   "execution_count": 65,
   "metadata": {},
   "outputs": [],
   "source": [
    "# create set of \"dropped\" policy ids (i.e., policies associated with missing info)\n",
    "policies_raw_complete = policies_raw.dropna()\n",
    "drivers_raw_complete = drivers_raw.dropna()\n",
    "vehicles_raw_complete = vehicles_raw.dropna()\n",
    "A = set(policies_raw['policy_id']) - set(policies_raw_complete['policy_id'])\n",
    "B = set(drivers_raw['policy_id']) - set(drivers_raw_complete['policy_id'])\n",
    "C = set(vehicles_raw['policy_id']) - set(vehicles_raw_complete['policy_id'])\n",
    "dropped_policy_ids = A.union(B, C)"
   ]
  },
  {
   "cell_type": "code",
   "execution_count": 66,
   "metadata": {},
   "outputs": [],
   "source": [
    "# filter dropped policy ids from each df\n",
    "policies_complete = policies_raw[policies_raw['policy_id'].isin(dropped_policy_ids) == False]\n",
    "drivers_complete = drivers_raw[drivers_raw['policy_id'].isin(dropped_policy_ids) == False]\n",
    "vehicles_complete = vehicles_raw[vehicles_raw['policy_id'].isin(dropped_policy_ids) == False]"
   ]
  },
  {
   "cell_type": "code",
   "execution_count": 67,
   "metadata": {},
   "outputs": [
    {
     "name": "stdout",
     "output_type": "stream",
     "text": [
      "0\n",
      "345\n",
      "345\n"
     ]
    }
   ],
   "source": [
    "# confirm there are no missing values still in datasets\n",
    "p = policies_complete.isnull().sum()\n",
    "d = drivers_complete.isnull().sum()\n",
    "v = vehicles_complete.isnull().sum()\n",
    "print(p.sum())\n",
    "print(d.sum())\n",
    "print(v.sum())"
   ]
  },
  {
   "cell_type": "code",
   "execution_count": 70,
   "metadata": {},
   "outputs": [
    {
     "name": "stdout",
     "output_type": "stream",
     "text": [
      "17067\n",
      "37379\n",
      "37379\n"
     ]
    }
   ],
   "source": [
    "# check how many rows were lost\n",
    "print(len(policies_raw) - len(policies_complete))\n",
    "print(len(drivers_raw) - len(drivers_complete))\n",
    "print(len(vehicles_raw) - len(vehicles_complete))"
   ]
  },
  {
   "cell_type": "code",
   "execution_count": 71,
   "metadata": {},
   "outputs": [],
   "source": [
    "# save complete datasets as csv files\n",
    "policies_complete.to_csv('../data/policies_complete.csv')\n",
    "drivers_complete.to_csv('../data/policies_complete.csv')\n",
    "vehicles_complete.to_csv('../data/vehicles_complete.csv')"
   ]
  }
 ],
 "metadata": {
  "kernelspec": {
   "display_name": "Python 3.10.2 64-bit",
   "language": "python",
   "name": "python3"
  },
  "language_info": {
   "codemirror_mode": {
    "name": "ipython",
    "version": 3
   },
   "file_extension": ".py",
   "mimetype": "text/x-python",
   "name": "python",
   "nbconvert_exporter": "python",
   "pygments_lexer": "ipython3",
   "version": "3.10.2"
  },
  "orig_nbformat": 4,
  "vscode": {
   "interpreter": {
    "hash": "413c54d42d867d78bc5693b88112002b4b75f03abc9fed1665b973f73c05d110"
   }
  }
 },
 "nbformat": 4,
 "nbformat_minor": 2
}
