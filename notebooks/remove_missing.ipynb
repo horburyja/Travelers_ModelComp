{
 "cells": [
  {
   "cell_type": "code",
   "execution_count": 13,
   "metadata": {},
   "outputs": [],
   "source": [
    "# import utility modules\n",
    "import pandas as pd\n",
    "import numpy as np"
   ]
  },
  {
   "cell_type": "code",
   "execution_count": 14,
   "metadata": {},
   "outputs": [],
   "source": [
    "# load raw policies.csv dataset\n",
    "policies_raw = pd.read_csv('../data/policies.csv', index_col=0)\n",
    "cols_to_drop = ['zip', 'county_name', 'Agent_cd']\n",
    "policies_raw = policies_raw.drop(cols_to_drop, axis=1) # drop extraneous columns"
   ]
  },
  {
   "cell_type": "code",
   "execution_count": 15,
   "metadata": {},
   "outputs": [],
   "source": [
    "dropped_policy_ids = set()\n",
    "\n",
    "# make copy of policies_raw df, then drop missing values\n",
    "df_missing_vals = policies_raw\n",
    "df_missing_vals = df_missing_vals.dropna(how='all').dropna(how='all', axis=1)\n",
    "\n",
    "# add \"dropped\" ids to set\n",
    "is_missing = df_missing_vals.isnull().any(axis=1) # store T/F values of isnull() for each policy_id in pd series\n",
    "for i in range(1, len(is_missing) + 1):\n",
    "    if is_missing[i]:\n",
    "        dropped_policy_ids.add(policies_raw['policy_id'][i])"
   ]
  },
  {
   "cell_type": "code",
   "execution_count": 16,
   "metadata": {},
   "outputs": [],
   "source": [
    "# load other datasets\n",
    "drivers_raw = pd.read_csv('../data/drivers.csv', index_col=0)\n",
    "vehicles_raw = pd.read_csv('../data/drivers.csv', index_col=0)"
   ]
  },
  {
   "cell_type": "code",
   "execution_count": 17,
   "metadata": {},
   "outputs": [
    {
     "name": "stdout",
     "output_type": "stream",
     "text": [
      "49162\n",
      "106294\n",
      "106294\n"
     ]
    }
   ],
   "source": [
    "# show number of row before cleaning\n",
    "print(len(policies_raw))\n",
    "print(len(drivers_raw))\n",
    "print(len(vehicles_raw))"
   ]
  },
  {
   "cell_type": "code",
   "execution_count": 24,
   "metadata": {},
   "outputs": [
    {
     "name": "stdout",
     "output_type": "stream",
     "text": [
      "18723\n",
      "670\n",
      "670\n"
     ]
    }
   ],
   "source": [
    "# show number of missing values before cleaning\n",
    "p = policies_raw.isnull().sum()\n",
    "d = drivers_raw.isnull().sum()\n",
    "v = vehicles_raw.isnull().sum()\n",
    "print(p.sum())\n",
    "print(d.sum())\n",
    "print(v.sum())"
   ]
  },
  {
   "cell_type": "code",
   "execution_count": 25,
   "metadata": {},
   "outputs": [],
   "source": [
    "# filter dropped ids from each df\n",
    "policies_complete = policies_raw[policies_raw.policy_id.isin(dropped_policy_ids) == False]\n",
    "drivers_complete = drivers_raw[drivers_raw.policy_id.isin(dropped_policy_ids) == False]\n",
    "vehicles_complete = vehicles_raw[vehicles_raw.policy_id.isin(dropped_policy_ids) == False]"
   ]
  },
  {
   "cell_type": "code",
   "execution_count": 26,
   "metadata": {},
   "outputs": [
    {
     "name": "stdout",
     "output_type": "stream",
     "text": [
      "32176\n",
      "69341\n",
      "69341\n"
     ]
    }
   ],
   "source": [
    "print(len(policies_complete))\n",
    "print(len(drivers_complete))\n",
    "print(len(vehicles_complete))"
   ]
  },
  {
   "cell_type": "code",
   "execution_count": 27,
   "metadata": {},
   "outputs": [
    {
     "name": "stdout",
     "output_type": "stream",
     "text": [
      "0\n",
      "426\n",
      "426\n"
     ]
    }
   ],
   "source": [
    "# confirm there are no missing values still in datasets\n",
    "p = policies_complete.isnull().sum()\n",
    "d = drivers_complete.isnull().sum()\n",
    "v = vehicles_complete.isnull().sum()\n",
    "print(p.sum())\n",
    "print(d.sum())\n",
    "print(v.sum())"
   ]
  }
 ],
 "metadata": {
  "kernelspec": {
   "display_name": "Python 3.10.2 64-bit",
   "language": "python",
   "name": "python3"
  },
  "language_info": {
   "codemirror_mode": {
    "name": "ipython",
    "version": 3
   },
   "file_extension": ".py",
   "mimetype": "text/x-python",
   "name": "python",
   "nbconvert_exporter": "python",
   "pygments_lexer": "ipython3",
   "version": "3.10.2"
  },
  "orig_nbformat": 4,
  "vscode": {
   "interpreter": {
    "hash": "413c54d42d867d78bc5693b88112002b4b75f03abc9fed1665b973f73c05d110"
   }
  }
 },
 "nbformat": 4,
 "nbformat_minor": 2
}
