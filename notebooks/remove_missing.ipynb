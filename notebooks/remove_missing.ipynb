{
 "cells": [
  {
   "cell_type": "code",
   "execution_count": 29,
   "metadata": {},
   "outputs": [],
   "source": [
    "# import utility modules\n",
    "import pandas as pd\n",
    "import numpy as np"
   ]
  },
  {
   "cell_type": "code",
   "execution_count": 30,
   "metadata": {},
   "outputs": [],
   "source": [
    "# load policy data\n",
    "policies_raw = pd.read_csv('../data/policies.csv', index_col=0)\n",
    "cols_to_drop = ['zip', 'county_name', 'Agent_cd']\n",
    "policies_raw = policies_raw.drop(cols_to_drop, axis=1) # drop extraneous columns\n",
    "\n",
    "# split train and test data\n",
    "train_policies_raw = policies_raw[policies_raw['split'] == 'Train']\n",
    "test_policies_raw = policies_raw[policies_raw['split'] == 'Test']\n",
    "train_policies_raw = train_policies_raw.drop(['split'], axis=1)\n",
    "test_policies_raw = test_policies_raw.drop(['convert_ind', 'split'], axis=1)"
   ]
  },
  {
   "cell_type": "code",
   "execution_count": 31,
   "metadata": {},
   "outputs": [],
   "source": [
    "# load other raw datasets\n",
    "drivers_raw = pd.read_csv('../data/drivers.csv', index_col=0)\n",
    "vehicles_raw = pd.read_csv('../data/drivers.csv', index_col=0)"
   ]
  },
  {
   "cell_type": "code",
   "execution_count": 32,
   "metadata": {},
   "outputs": [],
   "source": [
    "null_train = train_policies_raw[train_policies_raw.isnull().any(axis = 1)]\n",
    "null_test = test_policies_raw[test_policies_raw.isnull().any(axis = 1)]\n",
    "null_drivers = drivers_raw[drivers_raw.isnull().any(axis = 1)]\n",
    "null_vehicles = vehicles_raw[vehicles_raw.isnull().any(axis = 1)]\n",
    "\n",
    "A = set(null_train['policy_id']) \n",
    "B = set(null_test['policy_id'])\n",
    "C = set(null_drivers['policy_id'])\n",
    "D = set(null_vehicles['policy_id'])\n",
    "\n",
    "dropped_policy_ids = A.union(B, C, D)\n",
    "\n",
    "train_policies_complete = train_policies_raw[train_policies_raw['policy_id'].isin(dropped_policy_ids) == False]\n",
    "test_policies_complete = test_policies_raw[test_policies_raw['policy_id'].isin(dropped_policy_ids) == False]\n",
    "drivers_complete = drivers_raw[drivers_raw['policy_id'].isin(dropped_policy_ids) == False]\n",
    "vehicles_complete = vehicles_raw[vehicles_raw['policy_id'].isin(dropped_policy_ids) == False]"
   ]
  },
  {
   "cell_type": "code",
   "execution_count": 33,
   "metadata": {},
   "outputs": [
    {
     "name": "stdout",
     "output_type": "stream",
     "text": [
      "0\n",
      "0\n",
      "0\n",
      "0\n"
     ]
    }
   ],
   "source": [
    "# confirm there are no missing values remaining in each dataset\n",
    "trainp = train_policies_complete.isnull().sum()\n",
    "testp = test_policies_complete.isnull().sum()\n",
    "d = drivers_complete.isnull().sum()\n",
    "v = vehicles_complete.isnull().sum()\n",
    "print(trainp.sum())\n",
    "print(testp.sum())\n",
    "print(d.sum())\n",
    "print(v.sum())"
   ]
  },
  {
   "cell_type": "code",
   "execution_count": 34,
   "metadata": {},
   "outputs": [
    {
     "name": "stdout",
     "output_type": "stream",
     "text": [
      "31752\n",
      "10579\n",
      "91012\n",
      "91012\n"
     ]
    }
   ],
   "source": [
    "print(len(train_policies_complete))\n",
    "print(len(test_policies_complete))\n",
    "print(len(drivers_complete))\n",
    "print(len(vehicles_complete))"
   ]
  },
  {
   "cell_type": "code",
   "execution_count": 35,
   "metadata": {},
   "outputs": [],
   "source": [
    "# save complete datasets as csv files\n",
    "train_policies_complete.to_csv('../data/train_policies_complete.csv') # does not have respone\n",
    "test_policies_complete.to_csv('../data/test_policies_complete.csv')\n",
    "drivers_complete.to_csv('../data/drivers_complete.csv')\n",
    "vehicles_complete.to_csv('../data/vehicles_complete.csv')"
   ]
  }
 ],
 "metadata": {
  "kernelspec": {
   "display_name": "Python 3.10.2 64-bit",
   "language": "python",
   "name": "python3"
  },
  "language_info": {
   "codemirror_mode": {
    "name": "ipython",
    "version": 3
   },
   "file_extension": ".py",
   "mimetype": "text/x-python",
   "name": "python",
   "nbconvert_exporter": "python",
   "pygments_lexer": "ipython3",
   "version": "3.10.2"
  },
  "orig_nbformat": 4,
  "vscode": {
   "interpreter": {
    "hash": "413c54d42d867d78bc5693b88112002b4b75f03abc9fed1665b973f73c05d110"
   }
  }
 },
 "nbformat": 4,
 "nbformat_minor": 2
}
