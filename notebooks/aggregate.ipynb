{
 "cells": [
  {
   "cell_type": "code",
   "execution_count": null,
   "metadata": {},
   "outputs": [],
   "source": [
    "import numpy as np \n",
    "import pandas as pd \n",
    " \n",
    " \n",
    "drivers = pd.read_csv('../Data/drivers.csv')\n",
    "policies = pd.read_csv('../Data/policies.csv')\n",
    "vehicles = pd.read_csv('../Data/vehicles.csv')\n",
    " \n",
    "drivers.drop(columns = ['Unnamed: 0'], inplace = True)\n",
    "policies.drop(columns = ['Unnamed: 0'], inplace = True)\n",
    "vehicles.drop(columns = ['Unnamed: 0'], inplace = True)\n",
    " \n",
    "d1 = drivers.pivot_table(index=['policy_id'], columns = 'gender', aggfunc = 'size', fill_value=0)\n",
    "d2 = drivers.pivot_table(index=['policy_id'], columns = 'living_status', aggfunc = 'size', fill_value=0)\n",
    "d3 = drivers.groupby(['policy_id']).mean()\n",
    " \n",
    "drivers2 = d1.merge(d2, how = 'left', on = 'policy_id')\n",
    "drivers2 = drivers2.merge(d3, on = 'policy_id')\n",
    " \n",
    "v1 = vehicles.pivot_table(index=['policy_id'], columns = 'ownership_type', aggfunc = 'size', fill_value=0)\n",
    "v2 = vehicles.pivot_table(index=['policy_id'], columns = 'color', aggfunc = 'size', fill_value=0)\n",
    "v3 = vehicles.groupby(['policy_id'])['age'].mean()\n",
    "vsplit = vehicles.make_model.str.split(\" : \")\n",
    "vehicles['make'] = [v[0] for v in vsplit]\n",
    "vehicles['model'] = [v[1] for v in vsplit]\n",
    "v4 = vehicles.pivot_table(index=['policy_id'], columns = 'make', aggfunc = 'size', fill_value=0)\n",
    "# v5 = vehicles.pivot_table(index=['policy_id'], columns = 'model', aggfunc = 'size', fill_value=0)\n",
    " \n",
    "vehicles2 = v1.merge(v2, how = 'left', on = 'policy_id')\n",
    "vehicles2 = vehicles2.merge(v3, on = 'policy_id')\n",
    "vehicles2 = vehicles2.merge(v4, on = 'policy_id')\n",
    " \n",
    "df = drivers2.merge(policies, on = 'policy_id')\n",
    "df = df.merge(vehicles2, on = 'policy_id')\n",
    " \n",
    "print(df)"
   ]
  }
 ],
 "metadata": {
  "kernelspec": {
   "display_name": "Python 3.10.2 64-bit",
   "language": "python",
   "name": "python3"
  },
  "language_info": {
   "name": "python",
   "version": "3.10.2"
  },
  "orig_nbformat": 4,
  "vscode": {
   "interpreter": {
    "hash": "413c54d42d867d78bc5693b88112002b4b75f03abc9fed1665b973f73c05d110"
   }
  }
 },
 "nbformat": 4,
 "nbformat_minor": 2
}
