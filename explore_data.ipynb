{
 "cells": [
  {
   "cell_type": "code",
   "execution_count": null,
   "metadata": {},
   "outputs": [],
   "source": [
    "# import utility modules\n",
    "import matplotlib.pyplot as plt\n",
    "import pandas as pd\n",
    "import numpy as np\n",
    "\n",
    "# load raw data\n",
    "policies_raw = pd.read_csv('data/policies.csv')\n",
    "print(policies_raw.info())"
   ]
  },
  {
   "cell_type": "markdown",
   "metadata": {},
   "source": [
    "Variable Identification:\n",
    "+ should variables be classified further (i.e., discrete, continuous, ordinal, nominal)?"
   ]
  },
  {
   "cell_type": "code",
   "execution_count": null,
   "metadata": {},
   "outputs": [],
   "source": [
    "policies_raw_categoric = policies_raw.select_dtypes(exclude=[np.number])\n",
    "categoric_cols = policies_raw_categoric.columns.values\n",
    "policies_raw_numeric = policies_raw.select_dtypes(include=[np.number])\n",
    "numeric_cols = policies_raw_numeric.columns.values\n",
    "\n",
    "# Some intervention is required for predictors that were not flagged correctly\n",
    "\n",
    "print(\"Categoric variables: \", categoric_cols)\n",
    "print(\"Numeric variables: \", numeric_cols)"
   ]
  },
  {
   "cell_type": "markdown",
   "metadata": {},
   "source": [
    "Display unique values for each class:"
   ]
  },
  {
   "cell_type": "code",
   "execution_count": 6,
   "metadata": {},
   "outputs": [
    {
     "name": "stdout",
     "output_type": "stream",
     "text": [
      "--Categoric--\n",
      "Quote_dt:  ['2015-01-28' '2015-02-12' '2018-09-03' ... '2017-05-13' '2017-09-13'\n",
      " '2017-02-08']\n",
      "discount:  ['Yes' 'No']\n",
      "Home_policy_ind:  ['Y' 'N']\n",
      "state_id:  ['NY' 'FL' 'NJ' 'CT' 'MN' 'WI' 'AL' 'GA']\n",
      "quoted_amt:  ['$5,153' '$9,870' '$3,090' ... '$34,048' '$12,780' '$271']\n",
      "Prior_carrier_grp:  ['Carrier_1' 'Carrier_4' 'Carrier_7' 'Carrier_3' 'Carrier_5' 'Carrier_6'\n",
      " nan 'Carrier_2' 'Carrier_8' 'Other']\n",
      "Cov_package_type:  ['High' 'Low' 'Medium' nan]\n",
      "policy_id:  ['policy_87209' 'policy_89288' 'policy_91413' ... 'policy_30163'\n",
      " 'policy_63982' 'policy_54019']\n",
      "split:  ['Train' 'Test']\n",
      "primary_parking:  ['home/driveway' 'unknown' 'parking garage' 'street']\n"
     ]
    }
   ],
   "source": [
    "print(\"--Categoric--\")\n",
    "ignore = ['county_name']\n",
    "for col in categoric_cols:\n",
    "    if col not in ignore:\n",
    "        print(\"{}: \".format(col), policies_raw[col].unique())"
   ]
  },
  {
   "cell_type": "code",
   "execution_count": 8,
   "metadata": {},
   "outputs": [
    {
     "name": "stdout",
     "output_type": "stream",
     "text": [
      "--Numeric--\n",
      "Unnamed: 0:  [    1     2     3 ... 49160 49161 49162]\n",
      "zip:  [10465. 12801. 11548. ... 10011. 10022. 10128.]\n",
      "Agent_cd:  [15973623. 46978147. 32759856. ... 60001931. 63517701. 20775178.]\n",
      "CAT_zone:  [ 2.  4.  3.  1.  5. nan]\n",
      "number_drivers:  [2 1 4 3 5 6]\n",
      "num_loaned_veh:  [1 2 0 3]\n",
      "num_owned_veh:  [2 1 3]\n",
      "num_leased_veh:  [0 2 1]\n",
      "total_number_veh:  [3 4 5 6 2 7 1 8]\n",
      "convert_ind:  [ 0. nan  1.]\n"
     ]
    }
   ],
   "source": [
    "print(\"--Numeric--\")\n",
    "ignore = ['credit_score']\n",
    "for col in numeric_cols:\n",
    "    if col not in ignore:\n",
    "        print(\"{}: \".format(col), policies_raw[col].unique())"
   ]
  },
  {
   "cell_type": "code",
   "execution_count": null,
   "metadata": {},
   "outputs": [],
   "source": [
    "print(\"--Categoric--\")\n",
    "for col in categoric_cols:\n",
    "    print(\"{}: \".format(col), train_raw[col].unique())\n",
    "\n",
    "print(\"--Numeric--\")\n",
    "large = ['zip.code', 'ni.age', 'len.at.res', 'premium']\n",
    "for col in numeric_cols:\n",
    "    if col not in large:\n",
    "        print(\"{}: \".format(col), train_raw[col].unique())"
   ]
  },
  {
   "cell_type": "markdown",
   "metadata": {},
   "source": [
    "From the above, one can observe that there are many missing values in the dataset. Additionally, some of the constraints implied in the dataset description are not being followed. A list of proposed constraints is shown below.\n",
    "\n",
    "Membership Constraints:\n",
    "- state id must be within the set of ratified US states\n",
    "\n",
    "Range Constraints:\n",
    "- credit score must be within standard range (i.e., [300, 850])\n",
    "\n",
    "Cross-validation Constraints:\n",
    "- county name must be valid with resepect to state id\n",
    "\n",
    "Regular Expressions:\n",
    "- zip code must follow standard US format\n",
    "- policy ID may follow a certain format\n",
    "- date must follow a valid format that is consistent\n",
    "- agent code must follow an 8-digit format\n",
    "- quoted amount must follow conventional monetary format\n",
    "    + data type of quote amount may be altered to more useable format\n",
    "\n",
    "Uniqueness Constraints:\n",
    "- customer identifiers must be unique\n",
    "- all observations must be unique\n",
    "\n",
    "Data-Type Constraints:\n",
    "- all features should have consistent data-types\n",
    "- Y/N values are preferred to be consistent across dataset"
   ]
  },
  {
   "cell_type": "markdown",
   "metadata": {},
   "source": [
    "Analysis of Missing Values:"
   ]
  },
  {
   "cell_type": "code",
   "execution_count": 9,
   "metadata": {},
   "outputs": [
    {
     "name": "stdout",
     "output_type": "stream",
     "text": [
      "Missing training data:\n",
      "0. Unnamed: 0 - 0.0%\n",
      "1. Quote_dt - 0.0%\n",
      "2. discount - 0.0%\n",
      "3. Home_policy_ind - 0.0%\n",
      "4. zip - 0.96009%\n",
      "5. state_id - 0.0%\n",
      "6. county_name - 0.0%\n",
      "7. Agent_cd - 11.04512%\n",
      "8. quoted_amt - 0.22782%\n",
      "9. Prior_carrier_grp - 10.17046%\n",
      "10. credit_score - 0.61023%\n",
      "11. Cov_package_type - 1.56625%\n",
      "12. CAT_zone - 0.50852%\n",
      "13. policy_id - 0.0%\n",
      "14. number_drivers - 0.0%\n",
      "15. num_loaned_veh - 0.0%\n",
      "16. num_owned_veh - 0.0%\n",
      "17. num_leased_veh - 0.0%\n",
      "18. total_number_veh - 0.0%\n",
      "19. convert_ind - 25.00102%\n",
      "20. split - 0.0%\n",
      "21. primary_parking - 0.0%\n",
      "\n",
      "50.089510000000004% missing in total\n"
     ]
    }
   ],
   "source": [
    "# missing data percentage list\n",
    "print(\"Missing training data:\")\n",
    "\n",
    "total_pct_missing, colnum = 0, 0\n",
    "for col in policies_raw.columns:\n",
    "    mean_missing = np.mean(policies_raw[col].isnull())\n",
    "    pct_missing = round(mean_missing * 100, 5) # round to 5 decimal places\n",
    "    total_pct_missing += pct_missing\n",
    "    \n",
    "    print(\"{}. {} - {}%\".format(colnum, col, pct_missing))\n",
    "    colnum += 1\n",
    "\n",
    "print(\"\\n{}% missing in total\".format(total_pct_missing))"
   ]
  }
 ],
 "metadata": {
  "kernelspec": {
   "display_name": "Python 3.10.2 64-bit",
   "language": "python",
   "name": "python3"
  },
  "language_info": {
   "codemirror_mode": {
    "name": "ipython",
    "version": 3
   },
   "file_extension": ".py",
   "mimetype": "text/x-python",
   "name": "python",
   "nbconvert_exporter": "python",
   "pygments_lexer": "ipython3",
   "version": "3.10.2"
  },
  "orig_nbformat": 4,
  "vscode": {
   "interpreter": {
    "hash": "413c54d42d867d78bc5693b88112002b4b75f03abc9fed1665b973f73c05d110"
   }
  }
 },
 "nbformat": 4,
 "nbformat_minor": 2
}
